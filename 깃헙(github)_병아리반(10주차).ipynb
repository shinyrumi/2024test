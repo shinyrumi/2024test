{
  "nbformat": 4,
  "nbformat_minor": 0,
  "metadata": {
    "colab": {
      "provenance": [],
      "authorship_tag": "ABX9TyMSiSS1l6FNiha2GsEJZn0s",
      "include_colab_link": true
    },
    "kernelspec": {
      "name": "python3",
      "display_name": "Python 3"
    },
    "language_info": {
      "name": "python"
    }
  },
  "cells": [
    {
      "cell_type": "markdown",
      "metadata": {
        "id": "view-in-github",
        "colab_type": "text"
      },
      "source": [
        "<a href=\"https://colab.research.google.com/github/shinyrumi/2024test/blob/main/%EA%B9%83%ED%97%99(github)_%EB%B3%91%EC%95%84%EB%A6%AC%EB%B0%98(10%EC%A3%BC%EC%B0%A8).ipynb\" target=\"_parent\"><img src=\"https://colab.research.google.com/assets/colab-badge.svg\" alt=\"Open In Colab\"/></a>"
      ]
    },
    {
      "cell_type": "code",
      "execution_count": null,
      "metadata": {
        "colab": {
          "base_uri": "https://localhost:8080/"
        },
        "id": "g1kgqAX5XHMu",
        "outputId": "2bc7ff50-7591-4633-f84f-0b45a189ebb0"
      },
      "outputs": [
        {
          "output_type": "stream",
          "name": "stdout",
          "text": [
            "당신은 학생입니까, 교사입니까: 교사\n",
            "아이디를 입력해주세요: 드루미\n",
            "학생의 이름을 입력해주세요: 앙결이\n",
            "포인트를 입력해주세요: 10\n",
            "축하합니다. 승급하셨습니다.\n",
            "현재 앙결이은(는) 10포인트이며 골드레벨입니다.\n",
            "학생의 이름을 입력해주세요: 하진이 옆자리\n",
            "포인트를 입력해주세요: 10\n",
            "축하합니다. 승급하셨습니다.\n",
            "현재 하진이 옆자리은(는) 10포인트이며 골드레벨입니다.\n"
          ]
        }
      ],
      "source": [
        "class Student:\n",
        "    def __init__(self, name):\n",
        "        self.name = name\n",
        "        self.points = 0\n",
        "        self.level = '브론즈'\n",
        "\n",
        "    def add_points(self, points):\n",
        "        previous_level = self.level\n",
        "        self.points += points\n",
        "        self.update_level()\n",
        "        if self.level != previous_level:\n",
        "            print(\"축하합니다. 승급하셨습니다.\")\n",
        "\n",
        "    def update_level(self):\n",
        "        if self.points >= 30:\n",
        "            self.level = '마스터'\n",
        "        elif self.points >= 20:\n",
        "            self.level = '다이아몬드'\n",
        "        elif self.points >= 10:\n",
        "            self.level = '골드'\n",
        "        elif self.points >= 5:\n",
        "            self.level = '실버'\n",
        "        else:\n",
        "            self.level = '브론즈'\n",
        "\n",
        "    def get_status(self):\n",
        "        return (self.name, self.points, self.level)\n",
        "\n",
        "class Classroom:\n",
        "    def __init__(self):\n",
        "        self.students = {}\n",
        "\n",
        "    def add_student_points(self, name, points):\n",
        "        if name not in self.students:\n",
        "            self.students[name] = Student(name)\n",
        "        self.students[name].add_points(points)\n",
        "        return self.students[name].get_status()\n",
        "\n",
        "    def get_student_status(self, name):\n",
        "        if name in self.students:\n",
        "            return self.students[name].get_status()\n",
        "        else:\n",
        "            return (name, 0, '브론즈')\n",
        "\n",
        "# 메인 프로그램\n",
        "classroom = Classroom()\n",
        "\n",
        "role = input(\"당신은 학생입니까, 교사입니까: \")\n",
        "\n",
        "if role == \"교사\":\n",
        "    teacher_id = input(\"아이디를 입력해주세요: \")\n",
        "    if teacher_id == \"드루미\":\n",
        "        while True:\n",
        "            name = input(\"학생의 이름을 입력해주세요: \")\n",
        "            if name == \"종료\":\n",
        "                break\n",
        "            points = int(input(\"포인트를 입력해주세요: \"))\n",
        "            status = classroom.add_student_points(name, points)\n",
        "            print(f\"현재 {status[0]}은(는) {status[1]}포인트이며 {status[2]}레벨입니다.\")\n",
        "    else:\n",
        "        print(\"잘못된 아이디입니다. 프로그램을 종료합니다.\")\n",
        "elif role == \"학생\":\n",
        "    name = input(\"이름을 입력해주세요: \")\n",
        "    status = classroom.get_student_status(name)\n",
        "    if status[1] == 0:\n",
        "        print(f\"당신은 현재 0포인트, 브론즈 레벨입니다.\")\n",
        "    else:\n",
        "        print(f\"현재 {status[0]}은(는) {status[1]}포인트이며 {status[2]}레벨입니다.\")\n",
        "        if status[2] != \"브론즈\":\n",
        "            print(\"축하합니다.\")\n",
        "else:\n",
        "    print(\"잘못된 입력입니다. 프로그램을 종료합니다.\")\n",
        "\n"
      ]
    }
  ]
}